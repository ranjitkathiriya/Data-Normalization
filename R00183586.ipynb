{
 "cells": [
  {
   "cell_type": "markdown",
   "metadata": {},
   "source": [
    "    1) Analysis of Data\n",
    "    2) Pre-Processing\n",
    "    3) Model Selection\n",
    "    4) Hyper Parameter Tuning"
   ]
  },
  {
   "cell_type": "code",
   "execution_count": 1,
   "metadata": {},
   "outputs": [],
   "source": [
    "# Importent Libreary\n",
    "import numpy as np\n",
    "import pandas as pd\n",
    "import seaborn as sns\n",
    "import matplotlib.pyplot as plt\n",
    "# Encoding\n",
    "from sklearn.preprocessing import OneHotEncoder\n",
    "from sklearn.preprocessing import OrdinalEncoder\n",
    "# Feature Selection\n",
    "from sklearn.feature_selection import SelectPercentile \n",
    "from sklearn.feature_selection import f_regression\n",
    "# train test split\n",
    "from sklearn.model_selection import train_test_split\n",
    "# pca for dim reduction\n",
    "from sklearn.decomposition import PCA\n",
    "# for cross val score\n",
    "from sklearn.model_selection import cross_val_score\n",
    "# Models \n",
    "from sklearn.linear_model import LogisticRegression, RidgeCV\n",
    "from sklearn.svm import SVC\n",
    "from sklearn.ensemble import RandomForestClassifier\n",
    "from sklearn.tree import DecisionTreeClassifier\n",
    "from sklearn.neighbors import KNeighborsClassifier\n",
    "from sklearn.naive_bayes import GaussianNB\n",
    "from sklearn.neural_network import MLPClassifier\n",
    "from sklearn.linear_model import SGDClassifier\n",
    "# Scalar\n",
    "from sklearn.preprocessing import MinMaxScaler,StandardScaler\n",
    "# for parameter tuning\n",
    "from sklearn.model_selection import GridSearchCV\n",
    "# evalutions\n",
    "from sklearn.metrics import confusion_matrix,classification_report,accuracy_score\n",
    "from sklearn.pipeline import Pipeline\n",
    "# removing warnings\n",
    "import warnings\n",
    "warnings.filterwarnings('ignore')"
   ]
  },
  {
   "cell_type": "markdown",
   "metadata": {},
   "source": [
    "## Picking chuck of data"
   ]
  },
  {
   "cell_type": "code",
   "execution_count": 2,
   "metadata": {},
   "outputs": [],
   "source": [
    "def extracting_data():\n",
    "    # reading csv file\n",
    "    df_read = pd.read_csv('./Extra/globalterrorismdb_0718dist.csv',encoding='ISO-8859-1')\n",
    "    # renaming all importent columns and selecting features\n",
    "    df_read.rename(columns={'iyear':'Year','imonth':'Month','iday':'Day','country_txt':'Country','region_txt':'Region','attacktype1_txt':'AttackType','target1':'Target','nkill':'Killed','nwound':'Wounded','summary':'Summary','gname':'Group','targtype1_txt':'Target_type','weaptype1_txt':'Weapon_type','motive':'Motive'},inplace=True)\n",
    "    df_read = df_read[['Year','Month','Day','Country','Region','city','latitude','longitude','AttackType','Killed','Wounded','Target','Summary','Group','Target_type','Weapon_type','Motive']]\n",
    "    # Selecting top 20 groups responsible for attack.\n",
    "    listName = df_read['Group'].value_counts()[1:21].index.tolist()\n",
    "    # selecting top 20 based on listName and storing it to dataframe.\n",
    "    df_new = df_read[df_read['Group'].apply(lambda x: x in listName)]\n",
    "    # Saving it to CSV file because each time it will be easy to identify.\n",
    "    df_new.to_csv('top20group.csv', index=False)"
   ]
  },
  {
   "cell_type": "code",
   "execution_count": 3,
   "metadata": {},
   "outputs": [],
   "source": [
    "extracting_data()"
   ]
  },
  {
   "cell_type": "markdown",
   "metadata": {},
   "source": [
    "# 1. Analysis of Data"
   ]
  },
  {
   "cell_type": "code",
   "execution_count": 4,
   "metadata": {},
   "outputs": [],
   "source": [
    "# Reading sorted data based on top 10 organization of attack.\n",
    "df = pd.read_csv('top20group.csv')"
   ]
  },
  {
   "cell_type": "code",
   "execution_count": 5,
   "metadata": {},
   "outputs": [
    {
     "name": "stdout",
     "output_type": "stream",
     "text": [
      "<class 'pandas.core.frame.DataFrame'>\n",
      "RangeIndex: 51095 entries, 0 to 51094\n",
      "Data columns (total 17 columns):\n",
      "Year           51095 non-null int64\n",
      "Month          51095 non-null int64\n",
      "Day            51095 non-null int64\n",
      "Country        51095 non-null object\n",
      "Region         51095 non-null object\n",
      "city           51018 non-null object\n",
      "latitude       49342 non-null float64\n",
      "longitude      49342 non-null float64\n",
      "AttackType     51095 non-null object\n",
      "Killed         46792 non-null float64\n",
      "Wounded        44144 non-null float64\n",
      "Target         50981 non-null object\n",
      "Summary        31656 non-null object\n",
      "Group          51095 non-null object\n",
      "Target_type    51095 non-null object\n",
      "Weapon_type    51095 non-null object\n",
      "Motive         11361 non-null object\n",
      "dtypes: float64(4), int64(3), object(10)\n",
      "memory usage: 6.6+ MB\n"
     ]
    }
   ],
   "source": [
    "# Geating the information for null and not null features based on that further analys is done.\n",
    "df.info()"
   ]
  },
  {
   "cell_type": "code",
   "execution_count": 6,
   "metadata": {},
   "outputs": [
    {
     "data": {
      "text/plain": [
       "<matplotlib.axes._subplots.AxesSubplot at 0x1a23340cc0>"
      ]
     },
     "execution_count": 6,
     "metadata": {},
     "output_type": "execute_result"
    },
    {
     "data": {
      "image/png": "[encoded data removed]",
      "text/plain": [
       "<Figure size 432x288 with 1 Axes>"
      ]
     },
     "metadata": {
      "needs_background": "light"
     },
     "output_type": "display_data"
    }
   ],
   "source": [
    "# Finding missing values through seaborn\n",
    "sns.heatmap(df.isnull(), cbar=False,cmap=\"coolwarm\")"
   ]
  },
  {
   "cell_type": "markdown",
   "metadata": {},
   "source": [
    "# 2. Pre-Processing\n",
    "    2.1 Dealing with Missing Values\n",
    "    2.2 Handling Categorical Data\n",
    "    2.3 Handiling Imbalance data  \n",
    "    2.4 Feature Selection\n",
    "    2.5 Dimensionality Reduction (PCA)\n",
    "    2.6 Scaling Data (My Research - Data Normalization Techniques)  ** is in the last section\n",
    "\n",
    "\n",
    "\n",
    "## 2.1 Dealing with Missing Values\n",
    "     - From this given heatmap we can observed that\n",
    "        a) In city colums some datas are missing.\n",
    "        b) Latitude and Longitude some datas are misssing but we are not going to use location as features.\n",
    "        c) Killed and Wounded some data is lost, We can get this data based on realation between attackType.\n",
    "        d) Target is not as importent feature \n",
    "        e) Summary and Motive data is null more then 50% so we will drop this features."
   ]
  },
  {
   "cell_type": "markdown",
   "metadata": {},
   "source": [
    "### a. City Values is messing --> Let's analyze that"
   ]
  },
  {
   "cell_type": "code",
   "execution_count": 7,
   "metadata": {},
   "outputs": [
    {
     "name": "stdout",
     "output_type": "stream",
     "text": [
      "77\n",
      "Afghanistan    75\n",
      "Pakistan        2\n",
      "Name: Country, dtype: int64\n"
     ]
    }
   ],
   "source": [
    "# Lost datas on the city features.\n",
    "print(len(df[df['city'].isnull()]))\n",
    "# total missing value based on this specific country.\n",
    "print(df[df['city'].isnull()]['Country'].value_counts())"
   ]
  },
  {
   "cell_type": "code",
   "execution_count": 8,
   "metadata": {},
   "outputs": [
    {
     "data": {
      "text/html": [
       "<div>\n",
       "<style scoped>\n",
       "    .dataframe tbody tr th:only-of-type {\n",
       "        vertical-align: middle;\n",
       "    }\n",
       "\n",
       "    .dataframe tbody tr th {\n",
       "        vertical-align: top;\n",
       "    }\n",
       "\n",
       "    .dataframe thead th {\n",
       "        text-align: right;\n",
       "    }\n",
       "</style>\n",
       "<table border=\"1\" class=\"dataframe\">\n",
       "  <thead>\n",
       "    <tr style=\"text-align: right;\">\n",
       "      <th></th>\n",
       "      <th>Year</th>\n",
       "      <th>Month</th>\n",
       "      <th>Day</th>\n",
       "      <th>Country</th>\n",
       "      <th>Region</th>\n",
       "      <th>city</th>\n",
       "      <th>latitude</th>\n",
       "      <th>longitude</th>\n",
       "      <th>AttackType</th>\n",
       "      <th>Killed</th>\n",
       "      <th>Wounded</th>\n",
       "      <th>Target</th>\n",
       "      <th>Summary</th>\n",
       "      <th>Group</th>\n",
       "      <th>Target_type</th>\n",
       "      <th>Weapon_type</th>\n",
       "      <th>Motive</th>\n",
       "    </tr>\n",
       "  </thead>\n",
       "  <tbody>\n",
       "    <tr>\n",
       "      <th>22784</th>\n",
       "      <td>2008</td>\n",
       "      <td>11</td>\n",
       "      <td>3</td>\n",
       "      <td>Pakistan</td>\n",
       "      <td>South Asia</td>\n",
       "      <td>NaN</td>\n",
       "      <td>34.95262</td>\n",
       "      <td>72.331113</td>\n",
       "      <td>Unarmed Assault</td>\n",
       "      <td>5.0</td>\n",
       "      <td>0.0</td>\n",
       "      <td>Pakistani civilians</td>\n",
       "      <td>11/03/2008: On Monday, in an unspecified locat...</td>\n",
       "      <td>Tehrik-i-Taliban Pakistan (TTP)</td>\n",
       "      <td>Private Citizens &amp; Property</td>\n",
       "      <td>Melee</td>\n",
       "      <td>Spying for US soldiers in the case of the kill...</td>\n",
       "    </tr>\n",
       "    <tr>\n",
       "      <th>24218</th>\n",
       "      <td>2010</td>\n",
       "      <td>3</td>\n",
       "      <td>10</td>\n",
       "      <td>Pakistan</td>\n",
       "      <td>South Asia</td>\n",
       "      <td>NaN</td>\n",
       "      <td>34.95262</td>\n",
       "      <td>72.331113</td>\n",
       "      <td>Unknown</td>\n",
       "      <td>2.0</td>\n",
       "      <td>0.0</td>\n",
       "      <td>Suspected U.S. spies</td>\n",
       "      <td>03/10/2010: On Wednesday, in the North West Fr...</td>\n",
       "      <td>Taliban</td>\n",
       "      <td>Private Citizens &amp; Property</td>\n",
       "      <td>Unknown</td>\n",
       "      <td>The motive of the attack was retaliation for s...</td>\n",
       "    </tr>\n",
       "  </tbody>\n",
       "</table>\n",
       "</div>"
      ],
      "text/plain": [
       "       Year  Month  Day   Country      Region city  latitude  longitude  \\\n",
       "22784  2008     11    3  Pakistan  South Asia  NaN  34.95262  72.331113   \n",
       "24218  2010      3   10  Pakistan  South Asia  NaN  34.95262  72.331113   \n",
       "\n",
       "            AttackType  Killed  Wounded                Target  \\\n",
       "22784  Unarmed Assault     5.0      0.0   Pakistani civilians   \n",
       "24218          Unknown     2.0      0.0  Suspected U.S. spies   \n",
       "\n",
       "                                                 Summary  \\\n",
       "22784  11/03/2008: On Monday, in an unspecified locat...   \n",
       "24218  03/10/2010: On Wednesday, in the North West Fr...   \n",
       "\n",
       "                                 Group                  Target_type  \\\n",
       "22784  Tehrik-i-Taliban Pakistan (TTP)  Private Citizens & Property   \n",
       "24218                          Taliban  Private Citizens & Property   \n",
       "\n",
       "      Weapon_type                                             Motive  \n",
       "22784       Melee  Spying for US soldiers in the case of the kill...  \n",
       "24218     Unknown  The motive of the attack was retaliation for s...  "
      ]
     },
     "execution_count": 8,
     "metadata": {},
     "output_type": "execute_result"
    }
   ],
   "source": [
    "# all datas of null city -- It is observed that both has same GPS location on that location based city name is given.\n",
    "df[(df['city'].isnull()) & (df['Country']=='Pakistan')]"
   ]
  },
  {
   "cell_type": "code",
   "execution_count": 9,
   "metadata": {},
   "outputs": [],
   "source": [
    "# Based on Latitude and Longitude the specific city name is given\n",
    "df.loc[(df['city'].isnull()) & (df['Country']=='Pakistan') , ['city']] = \"Khairabad\""
   ]
  },
  {
   "cell_type": "code",
   "execution_count": 10,
   "metadata": {},
   "outputs": [
    {
     "name": "stdout",
     "output_type": "stream",
     "text": [
      "75\n"
     ]
    }
   ],
   "source": [
    "# Filled Data Sucessfully\n",
    "print(len(df[df['city'].isnull()]))"
   ]
  },
  {
   "cell_type": "code",
   "execution_count": 11,
   "metadata": {},
   "outputs": [],
   "source": [
    "# City which is empty Unknown \n",
    "df.loc[(df['city'].isnull()) & (df['Country']=='Afghanistan') , ['city']] = \"Unknown\""
   ]
  },
  {
   "cell_type": "code",
   "execution_count": 12,
   "metadata": {},
   "outputs": [
    {
     "name": "stdout",
     "output_type": "stream",
     "text": [
      "0\n"
     ]
    }
   ],
   "source": [
    "print(len(df[df['city'].isnull()]))"
   ]
  },
  {
   "cell_type": "markdown",
   "metadata": {},
   "source": [
    "### b) Latitude and Longitude some datas are misssing but we are not going to use location as features."
   ]
  },
  {
   "cell_type": "markdown",
   "metadata": {},
   "source": [
    "### c) Killed and Wounded some data is lost, We can get this data based on realation between attackType."
   ]
  },
  {
   "cell_type": "code",
   "execution_count": 13,
   "metadata": {},
   "outputs": [],
   "source": [
    "# Missing values based on Killed over AttackType\n",
    "names_datas=df[df['Killed'].isnull()]['AttackType'].value_counts().index.tolist()"
   ]
  },
  {
   "cell_type": "code",
   "execution_count": 14,
   "metadata": {},
   "outputs": [
    {
     "data": {
      "text/plain": [
       "['Bombing/Explosion',\n",
       " 'Armed Assault',\n",
       " 'Hostage Taking (Kidnapping)',\n",
       " 'Unknown',\n",
       " 'Facility/Infrastructure Attack',\n",
       " 'Hostage Taking (Barricade Incident)',\n",
       " 'Assassination',\n",
       " 'Hijacking',\n",
       " 'Unarmed Assault']"
      ]
     },
     "execution_count": 14,
     "metadata": {},
     "output_type": "execute_result"
    }
   ],
   "source": [
    "# Attack Types\n",
    "names_datas"
   ]
  },
  {
   "cell_type": "code",
   "execution_count": 15,
   "metadata": {},
   "outputs": [],
   "source": [
    "# types : killed or Wonded, AttackType is given in above list\n",
    "def datafix_Killed_Wonded(types,AttackType):\n",
    "    df.loc[(df['AttackType'] == AttackType) & (df[types].isnull()),[types]] = int(df[(df['AttackType'] == AttackType) & (df[types].notnull())][types].mean())\n"
   ]
  },
  {
   "cell_type": "code",
   "execution_count": 16,
   "metadata": {},
   "outputs": [],
   "source": [
    "# based on attack type the mean of that is taken for killed and wounded\n",
    "for i in names_datas:\n",
    "    datafix_Killed_Wonded('Killed',i)\n",
    "    datafix_Killed_Wonded('Wounded',i)"
   ]
  },
  {
   "cell_type": "code",
   "execution_count": 17,
   "metadata": {},
   "outputs": [
    {
     "name": "stdout",
     "output_type": "stream",
     "text": [
      "0\n",
      "0\n"
     ]
    }
   ],
   "source": [
    "# Total count the data is null or not\n",
    "print(len(df[df['Killed'].isnull()]))\n",
    "print(len(df[df['Wounded'].isnull()]))"
   ]
  },
  {
   "cell_type": "markdown",
   "metadata": {},
   "source": [
    "### d) Target is not as importent feature because it has all unique texts."
   ]
  },
  {
   "cell_type": "code",
   "execution_count": 18,
   "metadata": {},
   "outputs": [
    {
     "data": {
      "text/plain": [
       "Civilians                                                            1679\n",
       "Soldiers                                                             1398\n",
       "Checkpoint                                                           1111\n",
       "Unknown                                                              1033\n",
       "Military Unit                                                         968\n",
       "                                                                     ... \n",
       "driver                                                                  1\n",
       "Town of San Martin de Loba                                              1\n",
       "Mineral carrying train                                                  1\n",
       "Major Tito Samson*                                                      1\n",
       "The local leader of the ruling party was targeted in the bombing.       1\n",
       "Name: Target, Length: 22212, dtype: int64"
      ]
     },
     "execution_count": 18,
     "metadata": {},
     "output_type": "execute_result"
    }
   ],
   "source": [
    "# We cannot pick target as a feature.\n",
    "df['Target'].value_counts()"
   ]
  },
  {
   "cell_type": "markdown",
   "metadata": {},
   "source": [
    "### e) Summary and Motive data is null more then 50% so we will drop this features. We will also drop unwanted features."
   ]
  },
  {
   "cell_type": "code",
   "execution_count": 19,
   "metadata": {},
   "outputs": [],
   "source": [
    "df_final = df[['Year','Month','Country','Region','AttackType','Killed','Wounded','Target_type','Weapon_type','Group']]"
   ]
  },
  {
   "cell_type": "code",
   "execution_count": 20,
   "metadata": {
    "scrolled": true
   },
   "outputs": [
    {
     "data": {
      "text/html": [
       "<div>\n",
       "<style scoped>\n",
       "    .dataframe tbody tr th:only-of-type {\n",
       "        vertical-align: middle;\n",
       "    }\n",
       "\n",
       "    .dataframe tbody tr th {\n",
       "        vertical-align: top;\n",
       "    }\n",
       "\n",
       "    .dataframe thead th {\n",
       "        text-align: right;\n",
       "    }\n",
       "</style>\n",
       "<table border=\"1\" class=\"dataframe\">\n",
       "  <thead>\n",
       "    <tr style=\"text-align: right;\">\n",
       "      <th></th>\n",
       "      <th>Year</th>\n",
       "      <th>Month</th>\n",
       "      <th>Country</th>\n",
       "      <th>Region</th>\n",
       "      <th>AttackType</th>\n",
       "      <th>Killed</th>\n",
       "      <th>Wounded</th>\n",
       "      <th>Target_type</th>\n",
       "      <th>Weapon_type</th>\n",
       "      <th>Group</th>\n",
       "    </tr>\n",
       "  </thead>\n",
       "  <tbody>\n",
       "    <tr>\n",
       "      <th>0</th>\n",
       "      <td>1970</td>\n",
       "      <td>1</td>\n",
       "      <td>Philippines</td>\n",
       "      <td>Southeast Asia</td>\n",
       "      <td>Unknown</td>\n",
       "      <td>0.0</td>\n",
       "      <td>1.0</td>\n",
       "      <td>Military</td>\n",
       "      <td>Unknown</td>\n",
       "      <td>New People's Army (NPA)</td>\n",
       "    </tr>\n",
       "    <tr>\n",
       "      <th>1</th>\n",
       "      <td>1970</td>\n",
       "      <td>4</td>\n",
       "      <td>Philippines</td>\n",
       "      <td>Southeast Asia</td>\n",
       "      <td>Unknown</td>\n",
       "      <td>2.0</td>\n",
       "      <td>0.0</td>\n",
       "      <td>Military</td>\n",
       "      <td>Unknown</td>\n",
       "      <td>New People's Army (NPA)</td>\n",
       "    </tr>\n",
       "    <tr>\n",
       "      <th>2</th>\n",
       "      <td>1970</td>\n",
       "      <td>4</td>\n",
       "      <td>Turkey</td>\n",
       "      <td>Middle East &amp; North Africa</td>\n",
       "      <td>Bombing/Explosion</td>\n",
       "      <td>0.0</td>\n",
       "      <td>0.0</td>\n",
       "      <td>Airports &amp; Aircraft</td>\n",
       "      <td>Explosives</td>\n",
       "      <td>Palestinians</td>\n",
       "    </tr>\n",
       "    <tr>\n",
       "      <th>3</th>\n",
       "      <td>1970</td>\n",
       "      <td>5</td>\n",
       "      <td>Paraguay</td>\n",
       "      <td>South America</td>\n",
       "      <td>Assassination</td>\n",
       "      <td>1.0</td>\n",
       "      <td>1.0</td>\n",
       "      <td>Government (Diplomatic)</td>\n",
       "      <td>Firearms</td>\n",
       "      <td>Palestinians</td>\n",
       "    </tr>\n",
       "    <tr>\n",
       "      <th>4</th>\n",
       "      <td>1970</td>\n",
       "      <td>6</td>\n",
       "      <td>United Kingdom</td>\n",
       "      <td>Western Europe</td>\n",
       "      <td>Armed Assault</td>\n",
       "      <td>5.0</td>\n",
       "      <td>2.0</td>\n",
       "      <td>Terrorists/Non-State Militia</td>\n",
       "      <td>Incendiary</td>\n",
       "      <td>Irish Republican Army (IRA)</td>\n",
       "    </tr>\n",
       "  </tbody>\n",
       "</table>\n",
       "</div>"
      ],
      "text/plain": [
       "   Year  Month         Country                      Region         AttackType  \\\n",
       "0  1970      1     Philippines              Southeast Asia            Unknown   \n",
       "1  1970      4     Philippines              Southeast Asia            Unknown   \n",
       "2  1970      4          Turkey  Middle East & North Africa  Bombing/Explosion   \n",
       "3  1970      5        Paraguay               South America      Assassination   \n",
       "4  1970      6  United Kingdom              Western Europe      Armed Assault   \n",
       "\n",
       "   Killed  Wounded                   Target_type Weapon_type  \\\n",
       "0     0.0      1.0                      Military     Unknown   \n",
       "1     2.0      0.0                      Military     Unknown   \n",
       "2     0.0      0.0           Airports & Aircraft  Explosives   \n",
       "3     1.0      1.0       Government (Diplomatic)    Firearms   \n",
       "4     5.0      2.0  Terrorists/Non-State Militia  Incendiary   \n",
       "\n",
       "                         Group  \n",
       "0      New People's Army (NPA)  \n",
       "1      New People's Army (NPA)  \n",
       "2                 Palestinians  \n",
       "3                 Palestinians  \n",
       "4  Irish Republican Army (IRA)  "
      ]
     },
     "execution_count": 20,
     "metadata": {},
     "output_type": "execute_result"
    }
   ],
   "source": [
    "df_final.head()"
   ]
  },
  {
   "cell_type": "markdown",
   "metadata": {},
   "source": [
    "## 2.2 Handling Categorical Data\n",
    "    - So, final we have columns in categorical form so we will change into label form or one hot encoding form.\n",
    "        a) Group into OrdinalEncoder because it is our label.\n",
    "        b) The columns like Country, Region, AttackType, Target_type, Weapon_type into one hot encoding."
   ]
  },
  {
   "cell_type": "markdown",
   "metadata": {},
   "source": [
    "### a) Group into OrdinalEncoder because it is our label."
   ]
  },
  {
   "cell_type": "code",
   "execution_count": 21,
   "metadata": {},
   "outputs": [],
   "source": [
    "# calling the object of ordinalencoder class and dtype will be into int64 form\n",
    "enc = OrdinalEncoder(dtype=np.int64)"
   ]
  },
  {
   "cell_type": "code",
   "execution_count": 22,
   "metadata": {},
   "outputs": [],
   "source": [
    "# transforming and storing the data into group column into dataframe.\n",
    "df_final['Group'] = enc.fit_transform(df[['Group']])"
   ]
  },
  {
   "cell_type": "code",
   "execution_count": 23,
   "metadata": {},
   "outputs": [
    {
     "data": {
      "text/html": [
       "<div>\n",
       "<style scoped>\n",
       "    .dataframe tbody tr th:only-of-type {\n",
       "        vertical-align: middle;\n",
       "    }\n",
       "\n",
       "    .dataframe tbody tr th {\n",
       "        vertical-align: top;\n",
       "    }\n",
       "\n",
       "    .dataframe thead th {\n",
       "        text-align: right;\n",
       "    }\n",
       "</style>\n",
       "<table border=\"1\" class=\"dataframe\">\n",
       "  <thead>\n",
       "    <tr style=\"text-align: right;\">\n",
       "      <th></th>\n",
       "      <th>Year</th>\n",
       "      <th>Month</th>\n",
       "      <th>Country</th>\n",
       "      <th>Region</th>\n",
       "      <th>AttackType</th>\n",
       "      <th>Killed</th>\n",
       "      <th>Wounded</th>\n",
       "      <th>Target_type</th>\n",
       "      <th>Weapon_type</th>\n",
       "      <th>Group</th>\n",
       "    </tr>\n",
       "  </thead>\n",
       "  <tbody>\n",
       "    <tr>\n",
       "      <th>0</th>\n",
       "      <td>1970</td>\n",
       "      <td>1</td>\n",
       "      <td>Philippines</td>\n",
       "      <td>Southeast Asia</td>\n",
       "      <td>Unknown</td>\n",
       "      <td>0.0</td>\n",
       "      <td>1.0</td>\n",
       "      <td>Military</td>\n",
       "      <td>Unknown</td>\n",
       "      <td>13</td>\n",
       "    </tr>\n",
       "    <tr>\n",
       "      <th>1</th>\n",
       "      <td>1970</td>\n",
       "      <td>4</td>\n",
       "      <td>Philippines</td>\n",
       "      <td>Southeast Asia</td>\n",
       "      <td>Unknown</td>\n",
       "      <td>2.0</td>\n",
       "      <td>0.0</td>\n",
       "      <td>Military</td>\n",
       "      <td>Unknown</td>\n",
       "      <td>13</td>\n",
       "    </tr>\n",
       "  </tbody>\n",
       "</table>\n",
       "</div>"
      ],
      "text/plain": [
       "   Year  Month      Country          Region AttackType  Killed  Wounded  \\\n",
       "0  1970      1  Philippines  Southeast Asia    Unknown     0.0      1.0   \n",
       "1  1970      4  Philippines  Southeast Asia    Unknown     2.0      0.0   \n",
       "\n",
       "  Target_type Weapon_type  Group  \n",
       "0    Military     Unknown     13  \n",
       "1    Military     Unknown     13  "
      ]
     },
     "execution_count": 23,
     "metadata": {},
     "output_type": "execute_result"
    }
   ],
   "source": [
    "# display\n",
    "df_final.head(2)"
   ]
  },
  {
   "cell_type": "markdown",
   "metadata": {},
   "source": [
    "### b) The columns like Country, Region, AttackType, Target_type, Weapon_type into one hot encoding."
   ]
  },
  {
   "cell_type": "code",
   "execution_count": 24,
   "metadata": {},
   "outputs": [],
   "source": [
    "# calling the object of OneHotEncoder class and dtype will be into int64 form\n",
    "ohe = OneHotEncoder(dtype=np.int64)\n",
    "# transforming and storing the array into variable for all the columns.\n",
    "country = ohe.fit_transform(df.Country.values.reshape(-1,1)).toarray()\n",
    "Region = ohe.fit_transform(df.Region.values.reshape(-1,1)).toarray()\n",
    "AttackType = ohe.fit_transform(df.AttackType.values.reshape(-1,1)).toarray()\n",
    "Target_type = ohe.fit_transform(df.Target_type.values.reshape(-1,1)).toarray()\n",
    "Weapon_type = ohe.fit_transform(df.Weapon_type.values.reshape(-1,1)).toarray()"
   ]
  },
  {
   "cell_type": "code",
   "execution_count": 25,
   "metadata": {},
   "outputs": [],
   "source": [
    "# convert the array to data frame with the different columns name.\n",
    "dfOneHot_country = pd.DataFrame(country, columns = [\"country_\"+str(int(i)) for i in range(country.shape[1])])\n",
    "dfOneHot_region = pd.DataFrame(Region, columns = [\"region_\"+str(int(i)) for i in range(Region.shape[1])])\n",
    "dfOneHot_attacktype = pd.DataFrame(AttackType, columns = [\"AttackType_\"+str(int(i)) for i in range(AttackType.shape[1])])\n",
    "dfOneHot_targettype = pd.DataFrame(Target_type, columns = [\"Target_type_\"+str(int(i)) for i in range(Target_type.shape[1])])\n",
    "dfOneHot_weapontype = pd.DataFrame(Weapon_type, columns = [\"Weapon_type_\"+str(int(i)) for i in range(Weapon_type.shape[1])])"
   ]
  },
  {
   "cell_type": "code",
   "execution_count": 26,
   "metadata": {},
   "outputs": [],
   "source": [
    "# concate all into final dataframe.\n",
    "df = pd.concat([df_final, dfOneHot_country,dfOneHot_region,dfOneHot_attacktype,dfOneHot_targettype,dfOneHot_weapontype], axis=1)"
   ]
  },
  {
   "cell_type": "code",
   "execution_count": 27,
   "metadata": {},
   "outputs": [],
   "source": [
    "# droping inwanted columns because we have in the form of one-hot encoding\n",
    "df.drop(['Country','Region','AttackType','Target_type','Weapon_type'],axis=1,inplace=True)"
   ]
  },
  {
   "cell_type": "code",
   "execution_count": 28,
   "metadata": {},
   "outputs": [
    {
     "data": {
      "text/html": [
       "<div>\n",
       "<style scoped>\n",
       "    .dataframe tbody tr th:only-of-type {\n",
       "        vertical-align: middle;\n",
       "    }\n",
       "\n",
       "    .dataframe tbody tr th {\n",
       "        vertical-align: top;\n",
       "    }\n",
       "\n",
       "    .dataframe thead th {\n",
       "        text-align: right;\n",
       "    }\n",
       "</style>\n",
       "<table border=\"1\" class=\"dataframe\">\n",
       "  <thead>\n",
       "    <tr style=\"text-align: right;\">\n",
       "      <th></th>\n",
       "      <th>Year</th>\n",
       "      <th>Month</th>\n",
       "      <th>Killed</th>\n",
       "      <th>Wounded</th>\n",
       "      <th>Group</th>\n",
       "      <th>country_0</th>\n",
       "      <th>country_1</th>\n",
       "      <th>country_2</th>\n",
       "      <th>country_3</th>\n",
       "      <th>country_4</th>\n",
       "      <th>...</th>\n",
       "      <th>Weapon_type_0</th>\n",
       "      <th>Weapon_type_1</th>\n",
       "      <th>Weapon_type_2</th>\n",
       "      <th>Weapon_type_3</th>\n",
       "      <th>Weapon_type_4</th>\n",
       "      <th>Weapon_type_5</th>\n",
       "      <th>Weapon_type_6</th>\n",
       "      <th>Weapon_type_7</th>\n",
       "      <th>Weapon_type_8</th>\n",
       "      <th>Weapon_type_9</th>\n",
       "    </tr>\n",
       "  </thead>\n",
       "  <tbody>\n",
       "    <tr>\n",
       "      <th>0</th>\n",
       "      <td>1970</td>\n",
       "      <td>1</td>\n",
       "      <td>0.0</td>\n",
       "      <td>1.0</td>\n",
       "      <td>13</td>\n",
       "      <td>0</td>\n",
       "      <td>0</td>\n",
       "      <td>0</td>\n",
       "      <td>0</td>\n",
       "      <td>0</td>\n",
       "      <td>...</td>\n",
       "      <td>0</td>\n",
       "      <td>0</td>\n",
       "      <td>0</td>\n",
       "      <td>0</td>\n",
       "      <td>0</td>\n",
       "      <td>0</td>\n",
       "      <td>0</td>\n",
       "      <td>0</td>\n",
       "      <td>1</td>\n",
       "      <td>0</td>\n",
       "    </tr>\n",
       "  </tbody>\n",
       "</table>\n",
       "<p>1 rows × 133 columns</p>\n",
       "</div>"
      ],
      "text/plain": [
       "   Year  Month  Killed  Wounded  Group  country_0  country_1  country_2  \\\n",
       "0  1970      1     0.0      1.0     13          0          0          0   \n",
       "\n",
       "   country_3  country_4  ...  Weapon_type_0  Weapon_type_1  Weapon_type_2  \\\n",
       "0          0          0  ...              0              0              0   \n",
       "\n",
       "   Weapon_type_3  Weapon_type_4  Weapon_type_5  Weapon_type_6  Weapon_type_7  \\\n",
       "0              0              0              0              0              0   \n",
       "\n",
       "   Weapon_type_8  Weapon_type_9  \n",
       "0              1              0  \n",
       "\n",
       "[1 rows x 133 columns]"
      ]
     },
     "execution_count": 28,
     "metadata": {},
     "output_type": "execute_result"
    }
   ],
   "source": [
    "# display\n",
    "df.head(1)"
   ]
  },
  {
   "cell_type": "code",
   "execution_count": 29,
   "metadata": {},
   "outputs": [],
   "source": [
    "X = df.drop(['Group'],axis=1)\n",
    "y = df['Group']"
   ]
  },
  {
   "cell_type": "markdown",
   "metadata": {},
   "source": [
    "### 2.3 Handiling Imbalance data\n",
    "    - In this all datas are balance because all features are either in 0 and 1 form."
   ]
  },
  {
   "cell_type": "markdown",
   "metadata": {},
   "source": [
    "### 2.4 Feature Selection\n",
    "    - Universal Feature selection"
   ]
  },
  {
   "cell_type": "code",
   "execution_count": 30,
   "metadata": {},
   "outputs": [
    {
     "name": "stdout",
     "output_type": "stream",
     "text": [
      "Score :  125.6106190920143  for feature  Year\n",
      "Score :  0.6868400987678989  for feature  Month\n",
      "Score :  5.877463613954703  for feature  Killed\n",
      "Score :  0.26017728631632503  for feature  Wounded\n",
      "Score :  20612.761839510164  for feature  country_0\n",
      "Score :  1.277763907389984  for feature  country_1\n",
      "Score :  0.14717557956695876  for feature  country_2\n",
      "Score :  0.0959851110051098  for feature  country_3\n",
      "Score :  0.2943577681631403  for feature  country_4\n",
      "Score :  1.5769564945261927  for feature  country_5\n",
      "Score :  7.6682927393627445  for feature  country_6\n",
      "Score :  3.462692376025062  for feature  country_7\n",
      "Score :  1.500047975211262  for feature  country_8\n",
      "Score :  353.5244267122828  for feature  country_9\n",
      "Score :  49.57921473267521  for feature  country_10\n",
      "Score :  2254.235602851336  for feature  country_11\n",
      "Score :  1.5782389044231837  for feature  country_12\n",
      "Score :  1.2606836411908187  for feature  country_13\n",
      "Score :  0.2943577681631403  for feature  country_14\n",
      "Score :  2.4374349010721015  for feature  country_15\n",
      "Score :  1.851551619885969  for feature  country_16\n",
      "Score :  0.03818699926649347  for feature  country_17\n",
      "Score :  2974.3992667134894  for feature  country_18\n",
      "Score :  14.629530674600636  for feature  country_19\n",
      "Score :  0.04640223222954498  for feature  country_20\n",
      "Score :  34.143781931214676  for feature  country_21\n",
      "Score :  0.14717557956695876  for feature  country_22\n",
      "Score :  6.982882144496515  for feature  country_23\n",
      "Score :  0.321901264046848  for feature  country_24\n",
      "Score :  3.946011799743886  for feature  country_25\n",
      "Score :  1.5990379418863108  for feature  country_26\n",
      "Score :  1093.1397425050006  for feature  country_27\n",
      "Score :  0.14717557956695876  for feature  country_28\n",
      "Score :  0.35887948532481023  for feature  country_29\n",
      "Score :  792.0757516944668  for feature  country_30\n",
      "Score :  15.857120230645988  for feature  country_31\n",
      "Score :  300.79455318685257  for feature  country_32\n",
      "Score :  23.054754570024354  for feature  country_33\n",
      "Score :  0.3248555438151676  for feature  country_34\n",
      "Score :  1022.471122724805  for feature  country_35\n",
      "Score :  1.2606836411908187  for feature  country_36\n",
      "Score :  40.980339628100914  for feature  country_37\n",
      "Score :  0.2943577681631403  for feature  country_38\n",
      "Score :  0.14717557956695876  for feature  country_39\n",
      "Score :  1.500047975211262  for feature  country_40\n",
      "Score :  0.9136892575642327  for feature  country_41\n",
      "Score :  3.1043644239603796  for feature  country_42\n",
      "Score :  3.223415667611236  for feature  country_43\n",
      "Score :  352.3628485309397  for feature  country_44\n",
      "Score :  94.79059375925638  for feature  country_45\n",
      "Score :  3486.4678547284134  for feature  country_46\n",
      "Score :  0.04640223222954498  for feature  country_47\n",
      "Score :  3237.251385027751  for feature  country_48\n",
      "Score :  2.7774321175990355  for feature  country_49\n",
      "Score :  0.6303217071671047  for feature  country_50\n",
      "Score :  7275.528764972716  for feature  country_51\n",
      "Score :  605.124074255127  for feature  country_52\n",
      "Score :  0.30454753331811835  for feature  country_53\n",
      "Score :  0.6303217071671047  for feature  country_54\n",
      "Score :  0.5887419742239526  for feature  country_55\n",
      "Score :  98.7332494942454  for feature  country_56\n",
      "Score :  8655.874988262407  for feature  country_57\n",
      "Score :  0.6303217071671047  for feature  country_58\n",
      "Score :  4316.445221791904  for feature  country_59\n",
      "Score :  3.66879072882641  for feature  country_60\n",
      "Score :  0.321901264046848  for feature  country_61\n",
      "Score :  87.90102604959225  for feature  country_62\n",
      "Score :  2.4374349010721015  for feature  country_63\n",
      "Score :  0.014649053826321107  for feature  country_64\n",
      "Score :  0.7359439925790731  for feature  country_65\n",
      "Score :  111.93266879771609  for feature  country_66\n",
      "Score :  1.6863930192341887  for feature  country_67\n",
      "Score :  12.190455130015915  for feature  country_68\n",
      "Score :  0.4375837862836409  for feature  country_69\n",
      "Score :  840.1091524443781  for feature  country_70\n",
      "Score :  0.00818021730870024  for feature  country_71\n",
      "Score :  7.835747387594045  for feature  country_72\n",
      "Score :  309.34703039054324  for feature  country_73\n",
      "Score :  6.1150085945738555  for feature  country_74\n",
      "Score :  3314.1073400118157  for feature  country_75\n",
      "Score :  0.30454753331811835  for feature  country_76\n",
      "Score :  0.14717557956695876  for feature  region_0\n",
      "Score :  1541.8673400298255  for feature  region_1\n",
      "Score :  0.41858421491674114  for feature  region_2\n",
      "Score :  0.5887419742239526  for feature  region_3\n",
      "Score :  2189.4943076919767  for feature  region_4\n",
      "Score :  0.22853281228870276  for feature  region_5\n",
      "Score :  10812.104707930528  for feature  region_6\n",
      "Score :  11718.914056368681  for feature  region_7\n",
      "Score :  603.877185736885  for feature  region_8\n",
      "Score :  17302.85073737504  for feature  region_9\n",
      "Score :  4604.94598710595  for feature  region_10\n",
      "Score :  15.069782085616062  for feature  AttackType_0\n",
      "Score :  6.279390897420718  for feature  AttackType_1\n",
      "Score :  48.055699187616796  for feature  AttackType_2\n",
      "Score :  9.665807712463378  for feature  AttackType_3\n",
      "Score :  1.9003449303533335  for feature  AttackType_4\n",
      "Score :  7.101773333337995  for feature  AttackType_5\n",
      "Score :  0.8736747887316202  for feature  AttackType_6\n",
      "Score :  17.13957511660743  for feature  AttackType_7\n",
      "Score :  31.756676874934954  for feature  AttackType_8\n",
      "Score :  0.015213795054043732  for feature  Target_type_0\n",
      "Score :  20.18036090445397  for feature  Target_type_1\n",
      "Score :  89.07331345865282  for feature  Target_type_2\n",
      "Score :  5.632344352884905  for feature  Target_type_3\n",
      "Score :  2.3081908602868797  for feature  Target_type_4\n",
      "Score :  74.0083402412345  for feature  Target_type_5\n",
      "Score :  10.217768299423184  for feature  Target_type_6\n",
      "Score :  0.027900740391779935  for feature  Target_type_7\n",
      "Score :  326.4378998997046  for feature  Target_type_8\n",
      "Score :  13.362181249231442  for feature  Target_type_9\n",
      "Score :  0.04313034188483747  for feature  Target_type_10\n",
      "Score :  697.0420708089836  for feature  Target_type_11\n",
      "Score :  56.11854453337009  for feature  Target_type_12\n",
      "Score :  21.53391741619278  for feature  Target_type_13\n",
      "Score :  13.764706573954689  for feature  Target_type_14\n",
      "Score :  42.52179109120824  for feature  Target_type_15\n",
      "Score :  0.015581511015773666  for feature  Target_type_16\n",
      "Score :  2.2599275589593453  for feature  Target_type_17\n",
      "Score :  4.071563628000558  for feature  Target_type_18\n",
      "Score :  0.07123260574062833  for feature  Target_type_19\n",
      "Score :  25.274788954054134  for feature  Target_type_20\n",
      "Score :  5.49238331046074  for feature  Weapon_type_0\n",
      "Score :  143.05256592576262  for feature  Weapon_type_1\n",
      "Score :  93.88222832592987  for feature  Weapon_type_2\n",
      "Score :  9.89702018039237  for feature  Weapon_type_3\n",
      "Score :  2.5432739551561045  for feature  Weapon_type_4\n",
      "Score :  1.1179206834337032  for feature  Weapon_type_5\n",
      "Score :  1.6863930192341887  for feature  Weapon_type_6\n",
      "Score :  0.8104797754854707  for feature  Weapon_type_7\n",
      "Score :  27.7573205167767  for feature  Weapon_type_8\n",
      "Score :  0.414122550173251  for feature  Weapon_type_9\n"
     ]
    }
   ],
   "source": [
    "selector = SelectPercentile(f_regression, percentile=25) \n",
    "selector.fit(X,y)\n",
    "\n",
    "for n,s in zip(X.columns, selector.scores_): \n",
    "    print (\"Score : \", s, \" for feature \", n)"
   ]
  },
  {
   "cell_type": "markdown",
   "metadata": {},
   "source": [
    "### 2.5 Dimensionality Reduction (PCA)\n",
    "    - Checked with PCA I am getting only 34% accuracy after dimensionality reduction with KNN algorithm."
   ]
  },
  {
   "cell_type": "code",
   "execution_count": 31,
   "metadata": {},
   "outputs": [],
   "source": [
    "pca = PCA(n_components=10)\n",
    "X_pca = pca.fit_transform(X)"
   ]
  },
  {
   "cell_type": "code",
   "execution_count": 33,
   "metadata": {},
   "outputs": [
    {
     "data": {
      "text/plain": [
       "<matplotlib.axes._subplots.AxesSubplot at 0x1a237d7f60>"
      ]
     },
     "execution_count": 33,
     "metadata": {},
     "output_type": "execute_result"
    },
    {
     "data": {
      "image/png": "[encoded data removed]",
      "text/plain": [
       "<Figure size 1440x432 with 2 Axes>"
      ]
     },
     "metadata": {
      "needs_background": "light"
     },
     "output_type": "display_data"
    }
   ],
   "source": [
    "df_comp = pd.DataFrame(pca.components_,columns=X.columns)\n",
    "plt.figure(figsize=(20,6))\n",
    "sns.heatmap(df_comp,cmap='plasma')"
   ]
  },
  {
   "cell_type": "markdown",
   "metadata": {},
   "source": [
    "### 2.6 Scaling Data (My Research - Data Normalization Techniques) \n",
    "    a) Min-Max Normalization\n",
    "    b) Z-Score Normalization\n",
    "    c) Max-ABS Normalization\n",
    "    d) Median Normalization\n",
    "    e) Sigmoid Normalization\n",
    "    f) Tanh estimators"
   ]
  },
  {
   "cell_type": "code",
   "execution_count": 34,
   "metadata": {},
   "outputs": [],
   "source": [
    "# a) Min-Max Normalization\n",
    "scaler = MinMaxScaler()\n",
    "X_MinMax = scaler.fit_transform(X_pca)"
   ]
  },
  {
   "cell_type": "code",
   "execution_count": 35,
   "metadata": {},
   "outputs": [],
   "source": [
    "# b) Z-Score Normalization\n",
    "stdscaler = StandardScaler()\n",
    "X_Standard = stdscaler.fit_transform(X_pca)"
   ]
  },
  {
   "cell_type": "code",
   "execution_count": 36,
   "metadata": {},
   "outputs": [],
   "source": [
    "# c) Max-ABS Normalization\n",
    "X_MaxAbs = X_pca/X_pca.max(axis=0)"
   ]
  },
  {
   "cell_type": "code",
   "execution_count": 37,
   "metadata": {},
   "outputs": [],
   "source": [
    "# d) Median Normalization\n",
    "m = np.mean(X_pca, axis=0)\n",
    "X_Median = X_pca / m"
   ]
  },
  {
   "cell_type": "code",
   "execution_count": 38,
   "metadata": {},
   "outputs": [],
   "source": [
    "# e) Sigmoid Normalization\n",
    "X_Sigmoid = 1/(1+np.exp(-X_pca))"
   ]
  },
  {
   "cell_type": "code",
   "execution_count": 39,
   "metadata": {},
   "outputs": [],
   "source": [
    "# f) Tanh estimators\n",
    "m = np.mean(X_pca, axis=0)\n",
    "std = np.std(X_pca, axis=0)\n",
    "X_Tanh = 0.5 * (np.tanh(0.01 * ((X_pca - m) / std)) + 1)"
   ]
  },
  {
   "cell_type": "code",
   "execution_count": 40,
   "metadata": {},
   "outputs": [],
   "source": [
    "# g) Decimal Scaling Normalization - In our dataset this is not applicable because all datas are in the form of one hot encoding."
   ]
  },
  {
   "cell_type": "markdown",
   "metadata": {},
   "source": [
    "# 3) Model Selection\n",
    "    3.1 LogisticRegression\n",
    "    3.2 KNN\n",
    "    3.3 Naive Bayes\n",
    "    3.4 SVM (Support Vector Machine)\n",
    "    3.5 Random Forest Classifier\n",
    "    3.6 Decision Tree Classifier\n",
    "    3.7 Ridge Complexity\n",
    "    3.8 Stochastic Gradient Descent\n",
    "    3.9 Multi-layer Perceptron\n",
    "    \n",
    "    Note: Based on maximum mean value, the top three model will be selected and normalization technique also.\n"
   ]
  },
  {
   "cell_type": "code",
   "execution_count": 41,
   "metadata": {},
   "outputs": [],
   "source": [
    "def display_datas(lr,X,y,cv):\n",
    "    # Training the model with the help of cross_val_score\n",
    "    lr_score = cross_val_score(lr,X,y,cv=cv)\n",
    "    # Mean and standard devation\n",
    "    print (lr_score.mean(), lr_score.std())"
   ]
  },
  {
   "cell_type": "markdown",
   "metadata": {},
   "source": [
    "### 3.1 LogisticRegression"
   ]
  },
  {
   "cell_type": "code",
   "execution_count": 42,
   "metadata": {},
   "outputs": [],
   "source": [
    "# Logistic Regression model \n",
    "lr = LogisticRegression()"
   ]
  },
  {
   "cell_type": "code",
   "execution_count": 43,
   "metadata": {},
   "outputs": [
    {
     "name": "stdout",
     "output_type": "stream",
     "text": [
      "0.6363091528011685 0.05672155020703024\n"
     ]
    }
   ],
   "source": [
    "display_datas(lr,X_pca,y,3)"
   ]
  },
  {
   "cell_type": "code",
   "execution_count": 44,
   "metadata": {},
   "outputs": [
    {
     "name": "stdout",
     "output_type": "stream",
     "text": [
      "0.6005332814866224 0.02248354391000972\n"
     ]
    }
   ],
   "source": [
    "display_datas(lr,X_MinMax,y,3)"
   ]
  },
  {
   "cell_type": "code",
   "execution_count": 45,
   "metadata": {},
   "outputs": [
    {
     "name": "stdout",
     "output_type": "stream",
     "text": [
      "0.6408107331586191 0.05860715703193896\n"
     ]
    }
   ],
   "source": [
    "display_datas(lr,X_Standard,y,3)"
   ]
  },
  {
   "cell_type": "code",
   "execution_count": 46,
   "metadata": {},
   "outputs": [
    {
     "name": "stdout",
     "output_type": "stream",
     "text": [
      "0.6120413997824528 0.024995617915324363\n"
     ]
    }
   ],
   "source": [
    "display_datas(lr,X_MaxAbs,y,3)"
   ]
  },
  {
   "cell_type": "code",
   "execution_count": 47,
   "metadata": {},
   "outputs": [
    {
     "name": "stdout",
     "output_type": "stream",
     "text": [
      "0.5057056953038055 0.00347151811626605\n"
     ]
    }
   ],
   "source": [
    "display_datas(lr,X_Median,y,3)"
   ]
  },
  {
   "cell_type": "code",
   "execution_count": 48,
   "metadata": {},
   "outputs": [
    {
     "name": "stdout",
     "output_type": "stream",
     "text": [
      "0.601612287465214 0.04581195402301462\n"
     ]
    }
   ],
   "source": [
    "display_datas(lr,X_Sigmoid,y,3)"
   ]
  },
  {
   "cell_type": "code",
   "execution_count": 49,
   "metadata": {},
   "outputs": [
    {
     "name": "stdout",
     "output_type": "stream",
     "text": [
      "0.25459929836087375 0.021932523027818295\n"
     ]
    }
   ],
   "source": [
    "display_datas(lr,X_Tanh,y,3)"
   ]
  },
  {
   "cell_type": "markdown",
   "metadata": {},
   "source": [
    "### 3.2 KNN"
   ]
  },
  {
   "cell_type": "code",
   "execution_count": 50,
   "metadata": {},
   "outputs": [],
   "source": [
    "# KNN classfication model\n",
    "knn = KNeighborsClassifier()"
   ]
  },
  {
   "cell_type": "code",
   "execution_count": 51,
   "metadata": {},
   "outputs": [
    {
     "name": "stdout",
     "output_type": "stream",
     "text": [
      "0.2551973273461121 0.02794894571610417\n"
     ]
    }
   ],
   "source": [
    "#Without Scaling\n",
    "display_datas(knn,X_pca,y,3)"
   ]
  },
  {
   "cell_type": "code",
   "execution_count": 52,
   "metadata": {},
   "outputs": [
    {
     "name": "stdout",
     "output_type": "stream",
     "text": [
      "0.7396251545848213 0.02477742004271575\n"
     ]
    }
   ],
   "source": [
    "# MinMax\n",
    "display_datas(knn,X_MinMax,y,3)"
   ]
  },
  {
   "cell_type": "code",
   "execution_count": 53,
   "metadata": {},
   "outputs": [
    {
     "name": "stdout",
     "output_type": "stream",
     "text": [
      "0.6955308653626262 0.02422966240937333\n"
     ]
    }
   ],
   "source": [
    "# Z score\n",
    "display_datas(knn,X_Standard,y,3)"
   ]
  },
  {
   "cell_type": "code",
   "execution_count": 54,
   "metadata": {},
   "outputs": [
    {
     "name": "stdout",
     "output_type": "stream",
     "text": [
      "0.7315229137531097 0.026239141129036\n"
     ]
    }
   ],
   "source": [
    "# Max abs\n",
    "display_datas(knn,X_MaxAbs,y,3)"
   ]
  },
  {
   "cell_type": "code",
   "execution_count": 55,
   "metadata": {},
   "outputs": [
    {
     "name": "stdout",
     "output_type": "stream",
     "text": [
      "0.6019821857393056 0.03525013185812474\n"
     ]
    }
   ],
   "source": [
    "# X median\n",
    "display_datas(knn,X_Median,y,3)"
   ]
  },
  {
   "cell_type": "code",
   "execution_count": 56,
   "metadata": {},
   "outputs": [
    {
     "name": "stdout",
     "output_type": "stream",
     "text": [
      "0.5621554727441299 0.03972150548410778\n"
     ]
    }
   ],
   "source": [
    "# Sigmoid\n",
    "display_datas(knn,X_Sigmoid,y,3)"
   ]
  },
  {
   "cell_type": "code",
   "execution_count": 57,
   "metadata": {},
   "outputs": [
    {
     "name": "stdout",
     "output_type": "stream",
     "text": [
      "0.6954917038196378 0.024232770124905482\n"
     ]
    }
   ],
   "source": [
    "# Tanh\n",
    "display_datas(knn,X_Tanh,y,3)"
   ]
  },
  {
   "cell_type": "markdown",
   "metadata": {},
   "source": [
    "### 3.3 Naive Bayes"
   ]
  },
  {
   "cell_type": "code",
   "execution_count": 58,
   "metadata": {},
   "outputs": [],
   "source": [
    "# Gaussian Naive Bayes model\n",
    "gnb = GaussianNB()"
   ]
  },
  {
   "cell_type": "code",
   "execution_count": 59,
   "metadata": {},
   "outputs": [
    {
     "name": "stdout",
     "output_type": "stream",
     "text": [
      "0.49373129090600826 0.05687402059075443\n"
     ]
    }
   ],
   "source": [
    "display_datas(gnb,X_pca,y,3)"
   ]
  },
  {
   "cell_type": "code",
   "execution_count": 60,
   "metadata": {},
   "outputs": [
    {
     "name": "stdout",
     "output_type": "stream",
     "text": [
      "0.49373129090600826 0.05687402059075443\n"
     ]
    }
   ],
   "source": [
    "display_datas(gnb,X_MinMax,y,3)"
   ]
  },
  {
   "cell_type": "code",
   "execution_count": 61,
   "metadata": {},
   "outputs": [
    {
     "name": "stdout",
     "output_type": "stream",
     "text": [
      "0.49373129090600826 0.05687402059075443\n"
     ]
    }
   ],
   "source": [
    "display_datas(gnb,X_Standard,y,3)"
   ]
  },
  {
   "cell_type": "code",
   "execution_count": 62,
   "metadata": {},
   "outputs": [
    {
     "name": "stdout",
     "output_type": "stream",
     "text": [
      "0.49373129090600826 0.05687402059075443\n"
     ]
    }
   ],
   "source": [
    "display_datas(gnb,X_MaxAbs,y,3)"
   ]
  },
  {
   "cell_type": "code",
   "execution_count": 63,
   "metadata": {},
   "outputs": [
    {
     "name": "stdout",
     "output_type": "stream",
     "text": [
      "0.4937508561659327 0.05686022040114836\n"
     ]
    }
   ],
   "source": [
    "display_datas(gnb,X_Median,y,3)"
   ]
  },
  {
   "cell_type": "code",
   "execution_count": 64,
   "metadata": {},
   "outputs": [
    {
     "name": "stdout",
     "output_type": "stream",
     "text": [
      "0.5455085444269531 0.07491233371884229\n"
     ]
    }
   ],
   "source": [
    "display_datas(gnb,X_Sigmoid,y,3)"
   ]
  },
  {
   "cell_type": "code",
   "execution_count": 65,
   "metadata": {},
   "outputs": [
    {
     "name": "stdout",
     "output_type": "stream",
     "text": [
      "0.4962948868438451 0.056776718944808\n"
     ]
    }
   ],
   "source": [
    "display_datas(gnb,X_Tanh,y,3)"
   ]
  },
  {
   "cell_type": "markdown",
   "metadata": {},
   "source": [
    "### 3.4 SVM (Support Vector Machine)"
   ]
  },
  {
   "cell_type": "code",
   "execution_count": 66,
   "metadata": {},
   "outputs": [],
   "source": [
    "# Support Vector Machine model\n",
    "svm = SVC()"
   ]
  },
  {
   "cell_type": "code",
   "execution_count": 67,
   "metadata": {},
   "outputs": [
    {
     "name": "stdout",
     "output_type": "stream",
     "text": [
      "0.3110831721308161 0.07234252131305265\n"
     ]
    }
   ],
   "source": [
    "display_datas(svm,X_pca,y,3)"
   ]
  },
  {
   "cell_type": "code",
   "execution_count": 68,
   "metadata": {},
   "outputs": [
    {
     "name": "stdout",
     "output_type": "stream",
     "text": [
      "0.5950344070527431 0.02625998669830526\n"
     ]
    }
   ],
   "source": [
    "display_datas(svm,X_MinMax,y,3)"
   ]
  },
  {
   "cell_type": "code",
   "execution_count": 69,
   "metadata": {},
   "outputs": [
    {
     "name": "stdout",
     "output_type": "stream",
     "text": [
      "0.7138520320396863 0.055439510455279464\n"
     ]
    }
   ],
   "source": [
    "display_datas(svm,X_Standard,y,3)"
   ]
  },
  {
   "cell_type": "code",
   "execution_count": 70,
   "metadata": {},
   "outputs": [
    {
     "name": "stdout",
     "output_type": "stream",
     "text": [
      "0.6472321570780964 0.03479722347729289\n"
     ]
    }
   ],
   "source": [
    "display_datas(svm,X_MaxAbs,y,3)"
   ]
  },
  {
   "cell_type": "code",
   "execution_count": 71,
   "metadata": {},
   "outputs": [
    {
     "name": "stdout",
     "output_type": "stream",
     "text": [
      "0.14964289687698148 0.0009796588815018305\n"
     ]
    }
   ],
   "source": [
    "display_datas(svm,X_Median,y,3)"
   ]
  },
  {
   "cell_type": "code",
   "execution_count": 72,
   "metadata": {},
   "outputs": [
    {
     "name": "stdout",
     "output_type": "stream",
     "text": [
      "0.6045522401057604 0.056337142270162816\n"
     ]
    }
   ],
   "source": [
    "display_datas(svm,X_Sigmoid,y,3)"
   ]
  },
  {
   "cell_type": "code",
   "execution_count": 73,
   "metadata": {},
   "outputs": [
    {
     "name": "stdout",
     "output_type": "stream",
     "text": [
      "0.14635483253734374 2.514203637646004e-05\n"
     ]
    }
   ],
   "source": [
    "display_datas(svm,X_Tanh,y,3)"
   ]
  },
  {
   "cell_type": "markdown",
   "metadata": {},
   "source": [
    "### 3.5 RandomForestClassifier"
   ]
  },
  {
   "cell_type": "code",
   "execution_count": 74,
   "metadata": {},
   "outputs": [],
   "source": [
    "# Random forest model\n",
    "rfc = RandomForestClassifier()"
   ]
  },
  {
   "cell_type": "code",
   "execution_count": 75,
   "metadata": {},
   "outputs": [
    {
     "name": "stdout",
     "output_type": "stream",
     "text": [
      "0.7017756660373292 0.06409892062156033\n"
     ]
    }
   ],
   "source": [
    "display_datas(rfc,X_pca,y,3)"
   ]
  },
  {
   "cell_type": "code",
   "execution_count": 76,
   "metadata": {},
   "outputs": [
    {
     "name": "stdout",
     "output_type": "stream",
     "text": [
      "0.6898777374563458 0.05768380399913807\n"
     ]
    }
   ],
   "source": [
    "display_datas(rfc,X_MinMax,y,3)"
   ]
  },
  {
   "cell_type": "code",
   "execution_count": 77,
   "metadata": {},
   "outputs": [
    {
     "name": "stdout",
     "output_type": "stream",
     "text": [
      "0.6989200410505593 0.0731821737554296\n"
     ]
    }
   ],
   "source": [
    "display_datas(rfc,X_Standard,y,3)"
   ]
  },
  {
   "cell_type": "code",
   "execution_count": 78,
   "metadata": {},
   "outputs": [
    {
     "name": "stdout",
     "output_type": "stream",
     "text": [
      "0.6992728374477303 0.06869287410905005\n"
     ]
    }
   ],
   "source": [
    "display_datas(rfc,X_MaxAbs,y,3)"
   ]
  },
  {
   "cell_type": "code",
   "execution_count": 79,
   "metadata": {},
   "outputs": [
    {
     "name": "stdout",
     "output_type": "stream",
     "text": [
      "0.6959232264821527 0.07457844725282994\n"
     ]
    }
   ],
   "source": [
    "display_datas(rfc,X_Median,y,3)"
   ]
  },
  {
   "cell_type": "code",
   "execution_count": 80,
   "metadata": {},
   "outputs": [
    {
     "name": "stdout",
     "output_type": "stream",
     "text": [
      "0.6964116915978864 0.0727767098409615\n"
     ]
    }
   ],
   "source": [
    "display_datas(rfc,X_Sigmoid,y,3)"
   ]
  },
  {
   "cell_type": "code",
   "execution_count": 81,
   "metadata": {},
   "outputs": [
    {
     "name": "stdout",
     "output_type": "stream",
     "text": [
      "0.6961793662036712 0.0722984776422114\n"
     ]
    }
   ],
   "source": [
    "display_datas(rfc,X_Tanh,y,3)"
   ]
  },
  {
   "cell_type": "markdown",
   "metadata": {},
   "source": [
    "### 3.6 Decision Tree Classifier"
   ]
  },
  {
   "cell_type": "code",
   "execution_count": 82,
   "metadata": {},
   "outputs": [],
   "source": [
    "# Decision Tree model\n",
    "dtc = DecisionTreeClassifier()"
   ]
  },
  {
   "cell_type": "code",
   "execution_count": 83,
   "metadata": {},
   "outputs": [
    {
     "name": "stdout",
     "output_type": "stream",
     "text": [
      "0.628375101827905 0.0839233293276891\n"
     ]
    }
   ],
   "source": [
    "display_datas(dtc,X_pca,y,3)"
   ]
  },
  {
   "cell_type": "code",
   "execution_count": 84,
   "metadata": {},
   "outputs": [
    {
     "name": "stdout",
     "output_type": "stream",
     "text": [
      "0.6332289613431775 0.08893187249338345\n"
     ]
    }
   ],
   "source": [
    "display_datas(dtc,X_MinMax,y,3)"
   ]
  },
  {
   "cell_type": "code",
   "execution_count": 85,
   "metadata": {},
   "outputs": [
    {
     "name": "stdout",
     "output_type": "stream",
     "text": [
      "0.6282182969515532 0.09098356709847334\n"
     ]
    }
   ],
   "source": [
    "display_datas(dtc,X_Standard,y,3)"
   ]
  },
  {
   "cell_type": "code",
   "execution_count": 86,
   "metadata": {},
   "outputs": [
    {
     "name": "stdout",
     "output_type": "stream",
     "text": [
      "0.6253599709757433 0.087607980588185\n"
     ]
    }
   ],
   "source": [
    "display_datas(dtc,X_MaxAbs,y,3)"
   ]
  },
  {
   "cell_type": "code",
   "execution_count": 87,
   "metadata": {},
   "outputs": [
    {
     "name": "stdout",
     "output_type": "stream",
     "text": [
      "0.6251455494451615 0.0826890356731863\n"
     ]
    }
   ],
   "source": [
    "display_datas(dtc,X_Median,y,3)"
   ]
  },
  {
   "cell_type": "code",
   "execution_count": 88,
   "metadata": {},
   "outputs": [
    {
     "name": "stdout",
     "output_type": "stream",
     "text": [
      "0.6449544989193384 0.09298339154620569\n"
     ]
    }
   ],
   "source": [
    "display_datas(dtc,X_Sigmoid,y,3)"
   ]
  },
  {
   "cell_type": "code",
   "execution_count": 89,
   "metadata": {},
   "outputs": [
    {
     "name": "stdout",
     "output_type": "stream",
     "text": [
      "0.6272786452004101 0.08873761476177096\n"
     ]
    }
   ],
   "source": [
    "display_datas(dtc,X_Tanh,y,3)"
   ]
  },
  {
   "cell_type": "markdown",
   "metadata": {},
   "source": [
    "### 3.7 Ridge Complexity"
   ]
  },
  {
   "cell_type": "code",
   "execution_count": 90,
   "metadata": {},
   "outputs": [],
   "source": [
    "# Ridge classfication model\n",
    "rcv = RidgeCV()"
   ]
  },
  {
   "cell_type": "code",
   "execution_count": 91,
   "metadata": {},
   "outputs": [
    {
     "name": "stdout",
     "output_type": "stream",
     "text": [
      "0.5190534475167924 0.08957561944502487\n"
     ]
    }
   ],
   "source": [
    "display_datas(rcv,X_pca,y,3)"
   ]
  },
  {
   "cell_type": "code",
   "execution_count": 92,
   "metadata": {},
   "outputs": [
    {
     "name": "stdout",
     "output_type": "stream",
     "text": [
      "0.5185940656025826 0.08896630045276006\n"
     ]
    }
   ],
   "source": [
    "display_datas(rcv,X_MinMax,y,3)"
   ]
  },
  {
   "cell_type": "code",
   "execution_count": 93,
   "metadata": {},
   "outputs": [
    {
     "name": "stdout",
     "output_type": "stream",
     "text": [
      "0.5190555095658985 0.0895382972303687\n"
     ]
    }
   ],
   "source": [
    "display_datas(rcv,X_Standard,y,3)"
   ]
  },
  {
   "cell_type": "code",
   "execution_count": 94,
   "metadata": {},
   "outputs": [
    {
     "name": "stdout",
     "output_type": "stream",
     "text": [
      "0.5181111078572131 0.08661377869203943\n"
     ]
    }
   ],
   "source": [
    "display_datas(rcv,X_MaxAbs,y,3)"
   ]
  },
  {
   "cell_type": "code",
   "execution_count": 95,
   "metadata": {},
   "outputs": [
    {
     "name": "stdout",
     "output_type": "stream",
     "text": [
      "-7.380293844302722e+44 1.021903261358618e+45\n"
     ]
    }
   ],
   "source": [
    "display_datas(rcv,X_Median,y,3)"
   ]
  },
  {
   "cell_type": "code",
   "execution_count": 96,
   "metadata": {},
   "outputs": [
    {
     "name": "stdout",
     "output_type": "stream",
     "text": [
      "0.5250558249686282 0.08380748233022561\n"
     ]
    }
   ],
   "source": [
    "display_datas(rcv,X_Sigmoid,y,3)"
   ]
  },
  {
   "cell_type": "code",
   "execution_count": 97,
   "metadata": {},
   "outputs": [
    {
     "name": "stdout",
     "output_type": "stream",
     "text": [
      "0.5000325147832693 0.08220192950563665\n"
     ]
    }
   ],
   "source": [
    "display_datas(rcv,X_Tanh,y,3)"
   ]
  },
  {
   "cell_type": "markdown",
   "metadata": {},
   "source": [
    "### 3.8 Stochastic Gradient Descent"
   ]
  },
  {
   "cell_type": "code",
   "execution_count": 98,
   "metadata": {},
   "outputs": [],
   "source": [
    "# Stochastic Gradient Descent model\n",
    "sgdc = SGDClassifier()"
   ]
  },
  {
   "cell_type": "code",
   "execution_count": 99,
   "metadata": {},
   "outputs": [
    {
     "name": "stdout",
     "output_type": "stream",
     "text": [
      "0.3516294727275244 0.13417946430604571\n"
     ]
    }
   ],
   "source": [
    "display_datas(sgdc,X_pca,y,3)"
   ]
  },
  {
   "cell_type": "code",
   "execution_count": 100,
   "metadata": {},
   "outputs": [
    {
     "name": "stdout",
     "output_type": "stream",
     "text": [
      "0.5518943668049351 0.00724824764085758\n"
     ]
    }
   ],
   "source": [
    "display_datas(sgdc,X_MinMax,y,3)"
   ]
  },
  {
   "cell_type": "code",
   "execution_count": 101,
   "metadata": {},
   "outputs": [
    {
     "name": "stdout",
     "output_type": "stream",
     "text": [
      "0.5890874410349817 0.042340737799275725\n"
     ]
    }
   ],
   "source": [
    "display_datas(sgdc,X_Standard,y,3)"
   ]
  },
  {
   "cell_type": "code",
   "execution_count": 102,
   "metadata": {},
   "outputs": [
    {
     "name": "stdout",
     "output_type": "stream",
     "text": [
      "0.5477469179763758 0.011458124730312285\n"
     ]
    }
   ],
   "source": [
    "display_datas(sgdc,X_MaxAbs,y,3)"
   ]
  },
  {
   "cell_type": "code",
   "execution_count": 103,
   "metadata": {},
   "outputs": [
    {
     "name": "stdout",
     "output_type": "stream",
     "text": [
      "0.20072283586085501 0.0264100080262346\n"
     ]
    }
   ],
   "source": [
    "display_datas(sgdc,X_Median,y,3)"
   ]
  },
  {
   "cell_type": "code",
   "execution_count": 104,
   "metadata": {},
   "outputs": [
    {
     "name": "stdout",
     "output_type": "stream",
     "text": [
      "0.5932308871838906 0.01893107852272722\n"
     ]
    }
   ],
   "source": [
    "display_datas(sgdc,X_Sigmoid,y,3)"
   ]
  },
  {
   "cell_type": "code",
   "execution_count": 105,
   "metadata": {},
   "outputs": [
    {
     "name": "stdout",
     "output_type": "stream",
     "text": [
      "0.3399323952657503 0.09503913688989732\n"
     ]
    }
   ],
   "source": [
    "display_datas(sgdc,X_Tanh,y,3)"
   ]
  },
  {
   "cell_type": "markdown",
   "metadata": {},
   "source": [
    "### 3.9 Multi-layer Perceptron"
   ]
  },
  {
   "cell_type": "code",
   "execution_count": 106,
   "metadata": {},
   "outputs": [],
   "source": [
    "# Multi-layer Perceptron model\n",
    "mlpc = MLPClassifier()"
   ]
  },
  {
   "cell_type": "code",
   "execution_count": 107,
   "metadata": {},
   "outputs": [
    {
     "name": "stdout",
     "output_type": "stream",
     "text": [
      "0.6623642304817374 0.09456930576928393\n"
     ]
    }
   ],
   "source": [
    "display_datas(mlpc,X_pca,y,3)"
   ]
  },
  {
   "cell_type": "code",
   "execution_count": 108,
   "metadata": {},
   "outputs": [
    {
     "name": "stdout",
     "output_type": "stream",
     "text": [
      "0.6989422750546473 0.09115128310887298\n"
     ]
    }
   ],
   "source": [
    "display_datas(mlpc,X_MinMax,y,3)"
   ]
  },
  {
   "cell_type": "code",
   "execution_count": 109,
   "metadata": {},
   "outputs": [
    {
     "name": "stdout",
     "output_type": "stream",
     "text": [
      "0.7288466055373558 0.1032796844832077\n"
     ]
    }
   ],
   "source": [
    "display_datas(mlpc,X_Standard,y,3)"
   ]
  },
  {
   "cell_type": "code",
   "execution_count": 110,
   "metadata": {},
   "outputs": [
    {
     "name": "stdout",
     "output_type": "stream",
     "text": [
      "0.7744443745790471 0.06681654752868177\n"
     ]
    }
   ],
   "source": [
    "display_datas(mlpc,X_MaxAbs,y,3)"
   ]
  },
  {
   "cell_type": "code",
   "execution_count": 111,
   "metadata": {},
   "outputs": [
    {
     "name": "stdout",
     "output_type": "stream",
     "text": [
      "0.6690168751433502 0.08354639093454466\n"
     ]
    }
   ],
   "source": [
    "display_datas(mlpc,X_Median,y,3)"
   ]
  },
  {
   "cell_type": "code",
   "execution_count": 112,
   "metadata": {},
   "outputs": [
    {
     "name": "stdout",
     "output_type": "stream",
     "text": [
      "0.6790392638468216 0.0633956871166358\n"
     ]
    }
   ],
   "source": [
    "display_datas(mlpc,X_Sigmoid,y,3)"
   ]
  },
  {
   "cell_type": "code",
   "execution_count": 113,
   "metadata": {},
   "outputs": [
    {
     "name": "stdout",
     "output_type": "stream",
     "text": [
      "0.5327335902033585 0.01267128383582966\n"
     ]
    }
   ],
   "source": [
    "display_datas(mlpc,X_Tanh,y,3)"
   ]
  },
  {
   "cell_type": "markdown",
   "metadata": {},
   "source": [
    "# 4) Hyper Parameter Tuning\n",
    "\n",
    "    - Based on above accuracy we pick best 3 accuracy including normalization.\n",
    "    - Now, lets further explore to obtain more accuracy via hyper parameter tuning\n",
    "    - picking the model and normalization method for Hyper Parameter Tuning.\n",
    "    \n",
    "    4.1) KNN - Min-Max - 0.73 \n",
    "    4.2) Random Forest - Without Normalization -0.701\n",
    "    4.3) SVM - Zscore - 0.71"
   ]
  },
  {
   "cell_type": "markdown",
   "metadata": {},
   "source": [
    "### 4.1) KNN - Min-Max - 0.73"
   ]
  },
  {
   "cell_type": "code",
   "execution_count": 165,
   "metadata": {},
   "outputs": [],
   "source": [
    "# list of range from 1 to 10\n",
    "k_range = list(range(1, 10))\n",
    "# weight options name\n",
    "weight_options = ['uniform', 'distance']\n",
    "# store into dictonary\n",
    "param_grid = dict(n_neighbors=k_range, weights=weight_options,p=[2])\n",
    "# GridSearchCV forms grid and check each parameaters.\n",
    "# n_jobs -1 for alocating all resource for faster.\n",
    "grid_search = GridSearchCV(KNeighborsClassifier(), param_grid=param_grid, cv=10, scoring='accuracy',n_jobs=-1) "
   ]
  },
  {
   "cell_type": "code",
   "execution_count": 166,
   "metadata": {},
   "outputs": [
    {
     "name": "stdout",
     "output_type": "stream",
     "text": [
      "Best Estimator KNeighborsClassifier(algorithm='auto', leaf_size=30, metric='minkowski',\n",
      "                     metric_params=None, n_jobs=None, n_neighbors=1, p=2,\n",
      "                     weights='uniform')\n",
      "Score 0.8330169292494374\n"
     ]
    }
   ],
   "source": [
    "# traning\n",
    "grid_search.fit(X_MinMax, y)\n",
    "# getting best score\n",
    "print(\"Best Estimator {}\".format(grid_search.best_estimator_))\n",
    "print('Score {}'.format(grid_search.best_score_))"
   ]
  },
  {
   "cell_type": "code",
   "execution_count": 171,
   "metadata": {},
   "outputs": [
    {
     "data": {
      "text/plain": [
       "Text(87.0, 0.5, 'Predicated Value')"
      ]
     },
     "execution_count": 171,
     "metadata": {},
     "output_type": "execute_result"
    },
    {
     "data": {
      "image/png": "[encoded data removed]",
      "text/plain": [
       "<Figure size 864x432 with 2 Axes>"
      ]
     },
     "metadata": {
      "needs_background": "light"
     },
     "output_type": "display_data"
    }
   ],
   "source": [
    "# For testing matrix is formed.\n",
    "# plt.figure(figsize=(12,6))\n",
    "# sns.heatmap(confusion_matrix(y,pred),cmap='coolwarm',annot=True,fmt=\"d\")\n",
    "# plt.xlabel('Actual Value')\n",
    "# plt.ylabel('Predicated Value')"
   ]
  },
  {
   "cell_type": "markdown",
   "metadata": {},
   "source": [
    "### 4.2) Random Forest - Without Normalization - 0.701\n",
    "    - More hyper parmeater takes lots of time"
   ]
  },
  {
   "cell_type": "code",
   "execution_count": 178,
   "metadata": {},
   "outputs": [],
   "source": [
    "# trees in random forest\n",
    "n_estimators = [200, 205, 250]\n",
    "# max_features type\n",
    "max_features = ['auto', 'sqrt']\n",
    "# samples for training each tree\n",
    "bootstrap = [True, False]\n",
    "# info dictonary\n",
    "random_grid = {'n_estimators': n_estimators,\n",
    "               'max_features': max_features,\n",
    "               'bootstrap': bootstrap}\n",
    "# GridSearchCV forms grid and check each parameaters.\n",
    "# n_jobs -1 for alocating all resource for faster.\n",
    "grid_search = GridSearchCV(RandomForestClassifier(), param_grid=random_grid, cv=3, scoring='accuracy',n_jobs=-1) "
   ]
  },
  {
   "cell_type": "code",
   "execution_count": 179,
   "metadata": {},
   "outputs": [
    {
     "data": {
      "text/plain": [
       "{'n_estimators': [200, 205, 250],\n",
       " 'max_features': ['auto', 'sqrt'],\n",
       " 'bootstrap': [True, False]}"
      ]
     },
     "execution_count": 179,
     "metadata": {},
     "output_type": "execute_result"
    }
   ],
   "source": [
    "random_grid"
   ]
  },
  {
   "cell_type": "code",
   "execution_count": 180,
   "metadata": {},
   "outputs": [
    {
     "name": "stdout",
     "output_type": "stream",
     "text": [
      "Best Estimator RandomForestClassifier(bootstrap=True, class_weight=None, criterion='gini',\n",
      "                       max_depth=None, max_features='auto', max_leaf_nodes=None,\n",
      "                       min_impurity_decrease=0.0, min_impurity_split=None,\n",
      "                       min_samples_leaf=1, min_samples_split=2,\n",
      "                       min_weight_fraction_leaf=0.0, n_estimators=250,\n",
      "                       n_jobs=None, oob_score=False, random_state=None,\n",
      "                       verbose=0, warm_start=False)\n",
      "Score 0.7213230257363734\n"
     ]
    }
   ],
   "source": [
    "grid_search.fit(X_pca, y)\n",
    "\n",
    "print(\"Best Estimator {}\".format(grid_search.best_estimator_))\n",
    "print('Score {}'.format(grid_search.best_score_))"
   ]
  },
  {
   "cell_type": "markdown",
   "metadata": {},
   "source": [
    "### 4.3) SVM - Zscore - 0.71"
   ]
  },
  {
   "cell_type": "code",
   "execution_count": 184,
   "metadata": {},
   "outputs": [],
   "source": [
    "# numbers of kernals\n",
    "kernals = ['linear', 'poly', 'rbf', 'sigmoid']\n",
    "Cs = [1.0,2.0,1.5,2.5]\n",
    "\n",
    "# dictonary params\n",
    "random_grid = {'kernel': kernals,\n",
    "               'C': Cs,\n",
    "                }\n",
    "\n",
    "\n",
    "# GridSearchCV forms grid and check each parameaters.\n",
    "# n_jobs -1 for alocating all resource for faster.\n",
    "grid_search = GridSearchCV(SVC(), param_grid=random_grid, cv=3, scoring='accuracy',n_jobs=-1) "
   ]
  },
  {
   "cell_type": "code",
   "execution_count": 189,
   "metadata": {},
   "outputs": [
    {
     "data": {
      "text/plain": [
       "{'kernel': ['linear', 'poly', 'rbf', 'sigmoid'], 'C': [1.0, 2.0, 1.5, 2.5]}"
      ]
     },
     "execution_count": 189,
     "metadata": {},
     "output_type": "execute_result"
    }
   ],
   "source": [
    "random_grid"
   ]
  },
  {
   "cell_type": "code",
   "execution_count": 187,
   "metadata": {},
   "outputs": [
    {
     "name": "stdout",
     "output_type": "stream",
     "text": [
      "Best Estimator SVC(C=2.5, cache_size=200, class_weight=None, coef0=0.0,\n",
      "    decision_function_shape='ovr', degree=3, gamma='auto_deprecated',\n",
      "    kernel='rbf', max_iter=-1, probability=False, random_state=None,\n",
      "    shrinking=True, tol=0.001, verbose=False)\n",
      "Score 0.7429494079655543\n"
     ]
    }
   ],
   "source": [
    "grid_search.fit(X_Standard, y)\n",
    "\n",
    "print(\"Best Estimator {}\".format(grid_search.best_estimator_))\n",
    "print('Score {}'.format(grid_search.best_score_))"
   ]
  },
  {
   "cell_type": "code",
   "execution_count": 188,
   "metadata": {},
   "outputs": [
    {
     "data": {
      "text/plain": [
       "{'C': 2.5, 'kernel': 'rbf'}"
      ]
     },
     "execution_count": 188,
     "metadata": {},
     "output_type": "execute_result"
    }
   ],
   "source": [
    "grid_search.best_params_"
   ]
  },
  {
   "cell_type": "markdown",
   "metadata": {},
   "source": [
    "# EXIT"
   ]
  }
 ],
 "metadata": {
  "kernelspec": {
   "display_name": "Python 3",
   "language": "python",
   "name": "python3"
  },
  "language_info": {
   "codemirror_mode": {
    "name": "ipython",
    "version": 3
   },
   "file_extension": ".py",
   "mimetype": "text/x-python",
   "name": "python",
   "nbconvert_exporter": "python",
   "pygments_lexer": "ipython3",
   "version": "3.7.3"
  }
 },
 "nbformat": 4,
 "nbformat_minor": 2
}
